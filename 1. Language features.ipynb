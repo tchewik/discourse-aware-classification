{
 "cells": [
  {
   "cell_type": "code",
   "execution_count": 1,
   "metadata": {
    "pycharm": {
     "name": "#%%\n"
    }
   },
   "outputs": [],
   "source": [
    "%load_ext autoreload\n",
    "%autoreload 2"
   ]
  },
  {
   "cell_type": "code",
   "execution_count": 2,
   "metadata": {
    "pycharm": {
     "name": "#%%\n"
    }
   },
   "outputs": [],
   "source": [
    "import pandas as pd\n",
    "from tqdm import tqdm\n",
    "\n",
    "tqdm.pandas()"
   ]
  },
  {
   "cell_type": "markdown",
   "metadata": {
    "pycharm": {
     "name": "#%% md\n"
    }
   },
   "source": [
    "### Morphosyntactic and discourse parsing "
   ]
  },
  {
   "cell_type": "code",
   "execution_count": 3,
   "metadata": {
    "pycharm": {
     "name": "#%%\n"
    }
   },
   "outputs": [],
   "source": [
    "data = pd.read_csv('data/train_all.tsv', sep='\\t')"
   ]
  },
  {
   "cell_type": "code",
   "execution_count": 4,
   "metadata": {
    "pycharm": {
     "name": "#%%\n"
    }
   },
   "outputs": [
    {
     "name": "stdout",
     "output_type": "stream",
     "text": [
      "number of classes: 4\n",
      "class weights:\n"
     ]
    },
    {
     "data": {
      "text/plain": [
       "array([0.166, 0.324, 0.844, 1.   ])"
      ]
     },
     "execution_count": 4,
     "metadata": {},
     "output_type": "execute_result"
    }
   ],
   "source": [
    "import numpy as np\n",
    "\n",
    "# label1_weights\n",
    "counts = data.masks_stance.value_counts(normalize=False).values\n",
    "NUMBER_CLASSES = len(counts)\n",
    "print(\"number of classes:\", NUMBER_CLASSES)\n",
    "print(\"class weights:\")\n",
    "np.round(counts.min() / counts, decimals=3)"
   ]
  },
  {
   "cell_type": "code",
   "execution_count": 5,
   "metadata": {
    "pycharm": {
     "name": "#%%\n"
    }
   },
   "outputs": [
    {
     "name": "stdout",
     "output_type": "stream",
     "text": [
      "number of classes: 4\n",
      "class weights:\n"
     ]
    },
    {
     "data": {
      "text/plain": [
       "array([0.095, 0.138, 0.997, 1.   ])"
      ]
     },
     "execution_count": 5,
     "metadata": {},
     "output_type": "execute_result"
    }
   ],
   "source": [
    "# label2_weights\n",
    "counts = data.masks_argument.value_counts(normalize=False).values\n",
    "NUMBER_CLASSES = len(counts)\n",
    "print(\"number of classes:\", NUMBER_CLASSES)\n",
    "print(\"class weights:\")\n",
    "np.round(counts.min() / counts, decimals=3)"
   ]
  },
  {
   "cell_type": "code",
   "execution_count": 6,
   "metadata": {
    "pycharm": {
     "name": "#%%\n"
    }
   },
   "outputs": [
    {
     "name": "stdout",
     "output_type": "stream",
     "text": [
      "number of classes: 4\n",
      "class weights:\n"
     ]
    },
    {
     "data": {
      "text/plain": [
       "array([0.074, 0.432, 0.895, 1.   ])"
      ]
     },
     "execution_count": 6,
     "metadata": {},
     "output_type": "execute_result"
    }
   ],
   "source": [
    "# label1_weights\n",
    "counts = data.vaccines_stance.value_counts(normalize=False).values\n",
    "NUMBER_CLASSES = len(counts)\n",
    "print(\"number of classes:\", NUMBER_CLASSES)\n",
    "print(\"class weights:\")\n",
    "np.round(counts.min() / counts, decimals=3)"
   ]
  },
  {
   "cell_type": "code",
   "execution_count": 7,
   "metadata": {
    "pycharm": {
     "name": "#%%\n"
    }
   },
   "outputs": [
    {
     "name": "stdout",
     "output_type": "stream",
     "text": [
      "number of classes: 4\n",
      "class weights:\n"
     ]
    },
    {
     "data": {
      "text/plain": [
       "array([0.029, 0.12 , 0.55 , 1.   ])"
      ]
     },
     "execution_count": 7,
     "metadata": {},
     "output_type": "execute_result"
    }
   ],
   "source": [
    "# label2_weights\n",
    "counts = data.vaccines_argument.value_counts(normalize=False).values\n",
    "NUMBER_CLASSES = len(counts)\n",
    "print(\"number of classes:\", NUMBER_CLASSES)\n",
    "print(\"class weights:\")\n",
    "np.round(counts.min() / counts, decimals=3)"
   ]
  },
  {
   "cell_type": "code",
   "execution_count": 8,
   "metadata": {
    "pycharm": {
     "name": "#%%\n"
    }
   },
   "outputs": [
    {
     "name": "stdout",
     "output_type": "stream",
     "text": [
      "number of classes: 4\n",
      "class weights:\n"
     ]
    },
    {
     "data": {
      "text/plain": [
       "array([0.037, 0.128, 0.293, 1.   ])"
      ]
     },
     "execution_count": 8,
     "metadata": {},
     "output_type": "execute_result"
    }
   ],
   "source": [
    "# label1_weights\n",
    "counts = data.quarantine_stance.value_counts(normalize=False).values\n",
    "NUMBER_CLASSES = len(counts)\n",
    "print(\"number of classes:\", NUMBER_CLASSES)\n",
    "print(\"class weights:\")\n",
    "np.round(counts.min() / counts, decimals=3)"
   ]
  },
  {
   "cell_type": "code",
   "execution_count": 9,
   "metadata": {
    "pycharm": {
     "name": "#%%\n"
    }
   },
   "outputs": [
    {
     "name": "stdout",
     "output_type": "stream",
     "text": [
      "number of classes: 4\n",
      "class weights:\n"
     ]
    },
    {
     "data": {
      "text/plain": [
       "array([0.028, 0.072, 0.585, 1.   ])"
      ]
     },
     "execution_count": 9,
     "metadata": {},
     "output_type": "execute_result"
    }
   ],
   "source": [
    "# label2_weights\n",
    "counts = data.quarantine_argument.value_counts(normalize=False).values\n",
    "NUMBER_CLASSES = len(counts)\n",
    "print(\"number of classes:\", NUMBER_CLASSES)\n",
    "print(\"class weights:\")\n",
    "np.round(counts.min() / counts, decimals=3)"
   ]
  },
  {
   "cell_type": "code",
   "execution_count": 12,
   "metadata": {
    "pycharm": {
     "name": "#%%\n"
    }
   },
   "outputs": [],
   "source": [
    "from isanlp import PipelineCommon\n",
    "from isanlp.processor_remote import ProcessorRemote\n",
    "from isanlp.ru.processor_mystem import ProcessorMystem\n",
    "from isanlp.ru.converter_mystem_to_ud import ConverterMystemToUd\n",
    "from isanlp.processor_razdel import ProcessorRazdel\n",
    "from isanlp.annotation_rst import ForestExporter\n",
    "\n",
    "SERVER0 = ''  # <- server address\n",
    "address_syntax = (SERVER0, 3144)  # <- address of the syntax parser\n",
    "address_rst = (SERVER0, 3335)  # <- address of the rst parser\n",
    "\n",
    "ppl_tok = PipelineCommon([\n",
    "    (ProcessorRazdel(), ['text'],\n",
    "    {'tokens': 'tokens',\n",
    "     'sentences': 'sentences'})])\n",
    "\n",
    "def tokenize(text):\n",
    "    return ' '.join([tok.text for tok in ppl_tok(text)['tokens']])"
   ]
  },
  {
   "cell_type": "code",
   "execution_count": 13,
   "metadata": {
    "pycharm": {
     "name": "#%%\n"
    }
   },
   "outputs": [],
   "source": [
    "ppl = PipelineCommon([\n",
    "    (ProcessorRazdel(), ['text'],\n",
    "    {'tokens': 'tokens',\n",
    "     'sentences': 'sentences'}),\n",
    "    (ProcessorRemote(address_syntax[0], address_syntax[1], '0'),\n",
    "     ['tokens', 'sentences'],\n",
    "     {'lemma': 'lemma',\n",
    "      'syntax_dep_tree': 'syntax_dep_tree',\n",
    "      'postag': 'ud_postag'}),\n",
    "    (ProcessorMystem(delay_init=False),\n",
    "     ['tokens', 'sentences'],\n",
    "     {'postag': 'postag'}),\n",
    "    (ConverterMystemToUd(),\n",
    "     ['postag'],\n",
    "     {'morph': 'morph',\n",
    "      'postag': 'postag'}),\n",
    "    (ProcessorRemote(address_rst[0], address_rst[1], 'default'),\n",
    "     ['text', 'tokens', 'sentences', 'postag', 'morph', 'lemma', 'syntax_dep_tree'],\n",
    "     {'rst': 'rst'})\n",
    "])\n",
    "\n",
    "rs3exp = ForestExporter('utf8')"
   ]
  },
  {
   "cell_type": "code",
   "execution_count": 13,
   "metadata": {
    "jupyter": {
     "source_hidden": true
    },
    "tags": [],
    "pycharm": {
     "name": "#%%\n"
    }
   },
   "outputs": [],
   "source": [
    "res = ppl(tokenize(data.text.iloc[0].replace('[USER],', '').replace('[USER]', '').replace(' -', ' - ').replace('  ', ' ')))"
   ]
  },
  {
   "cell_type": "code",
   "execution_count": 14,
   "metadata": {
    "pycharm": {
     "name": "#%%\n"
    }
   },
   "outputs": [
    {
     "name": "stdout",
     "output_type": "stream",
     "text": [
      "id: 4\n",
      "text: согласно предписаниям Роспотребнадзора , все транзитные пассажиры , следующие через Москву , должны пройти 14-дневный карантин у себя по месту жительства .\n",
      "proba: 1.0\n",
      "relation: attribution\n",
      "nuclearity: SN\n",
      "left: согласно предписаниям Роспотребнадзора ,\n",
      "right: все транзитные пассажиры , следующие через Москву , должны пройти 14-дневный карантин у себя по месту жительства .\n",
      "start: 0\n",
      "end: 155\n"
     ]
    }
   ],
   "source": [
    "print(res['rst'][0])"
   ]
  },
  {
   "cell_type": "code",
   "execution_count": null,
   "metadata": {
    "scrolled": true,
    "pycharm": {
     "name": "#%%\n"
    }
   },
   "outputs": [
    {
     "name": "stderr",
     "output_type": "stream",
     "text": [
      " 87%|████████▋ | 5870/6717 [2:32:35<24:42,  1.75s/it]   "
     ]
    }
   ],
   "source": [
    "data['annot'] = data.text.progress_map(lambda row: ppl(tokenize(row.replace('[USER],', '').replace(\n",
    "    '[USER]', '').replace(' -', ' - ').replace('  ', ' '))))\n",
    "data.to_pickle('data/train.annotated.pkl')"
   ]
  },
  {
   "cell_type": "code",
   "execution_count": 48,
   "metadata": {
    "pycharm": {
     "name": "#%%\n"
    }
   },
   "outputs": [
    {
     "name": "stderr",
     "output_type": "stream",
     "text": [
      "100%|██████████| 1431/1431 [37:49<00:00,  1.59s/it] \n"
     ]
    }
   ],
   "source": [
    "dev = pd.read_csv('data/val_empty.tsv', sep='\\t')\n",
    "dev['annot'] = dev.text.progress_map(lambda row: ppl(tokenize(row.replace('[USER],', '').replace(\n",
    "    '[USER]', '').replace(' -', ' - ').replace('  ', ' '))))\n",
    "dev.to_pickle('data/dev.annotated.pkl')"
   ]
  },
  {
   "cell_type": "code",
   "execution_count": 7,
   "metadata": {
    "pycharm": {
     "name": "#%%\n"
    }
   },
   "outputs": [
    {
     "name": "stderr",
     "output_type": "stream",
     "text": [
      "100%|██████████| 1402/1402 [32:56<00:00,  1.41s/it] \n"
     ]
    }
   ],
   "source": [
    "test = pd.read_csv('data/test-no_labels.tsv', sep='\\t')\n",
    "test['annot'] = test.text.progress_map(lambda row: ppl(tokenize(row.replace('[USER],', '').replace(\n",
    "    '[USER]', '').replace(' -', ' - ').replace('  ', ' '))))\n",
    "test.to_pickle('data/test.annotated.pkl')"
   ]
  },
  {
   "cell_type": "markdown",
   "metadata": {
    "pycharm": {
     "name": "#%% md\n"
    }
   },
   "source": [
    "### RST exploration "
   ]
  },
  {
   "cell_type": "code",
   "execution_count": 14,
   "metadata": {
    "pycharm": {
     "name": "#%%\n"
    }
   },
   "outputs": [],
   "source": [
    "train = pd.read_pickle('data/train.annotated.pkl')\n",
    "dev = pd.read_pickle('data/dev.annotated.pkl')\n",
    "test = pd.read_pickle('data/test.annotated.pkl')"
   ]
  },
  {
   "cell_type": "code",
   "execution_count": 15,
   "metadata": {
    "pycharm": {
     "name": "#%%\n"
    }
   },
   "outputs": [],
   "source": [
    "train['tokens'] = train.annot.map(lambda row: ' '.join([tok.text for tok in row['tokens']]))\n",
    "dev['tokens'] = dev.annot.map(lambda row: ' '.join([tok.text for tok in row['tokens']]))\n",
    "test['tokens'] = test.annot.map(lambda row: ' '.join([tok.text for tok in row['tokens']]))"
   ]
  },
  {
   "cell_type": "code",
   "execution_count": 16,
   "metadata": {
    "pycharm": {
     "name": "#%%\n"
    }
   },
   "outputs": [],
   "source": [
    "def count_edus(tree):\n",
    "    if tree.relation == 'elementary':\n",
    "        return 1\n",
    "    return count_edus(tree.left) + count_edus(tree.right)\n",
    "\n",
    "train['length_edu'] = train.annot.map(lambda row: count_edus(row['rst'][0]))\n",
    "dev['length_edu'] = dev.annot.map(lambda row: count_edus(row['rst'][0]))\n",
    "test['length_edu'] = test.annot.map(lambda row: count_edus(row['rst'][0]))"
   ]
  },
  {
   "cell_type": "code",
   "execution_count": 37,
   "metadata": {
    "scrolled": true,
    "tags": [],
    "pycharm": {
     "name": "#%%\n"
    }
   },
   "outputs": [
    {
     "name": "stderr",
     "output_type": "stream",
     "text": [
      "/opt/.pyenv/versions/3.7.4/lib/python3.7/site-packages/numpy/core/fromnumeric.py:3208: VisibleDeprecationWarning: Creating an ndarray from ragged nested sequences (which is a list-or-tuple of lists-or-tuples-or ndarrays with different lengths or shapes) is deprecated. If you meant to do this, you must specify 'dtype=object' when creating the ndarray.\n",
      "  return asarray(a).size\n",
      "/opt/.pyenv/versions/3.7.4/lib/python3.7/site-packages/matplotlib/cbook/__init__.py:1426: VisibleDeprecationWarning: Creating an ndarray from ragged nested sequences (which is a list-or-tuple of lists-or-tuples-or ndarrays with different lengths or shapes) is deprecated. If you meant to do this, you must specify 'dtype=object' when creating the ndarray.\n",
      "  X = np.atleast_1d(X.T if isinstance(X, np.ndarray) else np.asarray(X))\n"
     ]
    },
    {
     "data": {
      "image/png": "[encoded data removed]",
      "text/plain": [
       "<Figure size 576x216 with 1 Axes>"
      ]
     },
     "metadata": {
      "needs_background": "light"
     },
     "output_type": "display_data"
    }
   ],
   "source": [
    "import matplotlib.pyplot as plt\n",
    "\n",
    "plt.style.use('seaborn-deep')\n",
    "f = plt.figure(figsize=(8,3))\n",
    "\n",
    "col = 'length_edu'\n",
    "bins = np.linspace(1, 20, 20)\n",
    "\n",
    "w_train = np.ones_like(train[col])/float(len(train[col]))\n",
    "w_dev = np.ones_like(dev[col])/float(len(dev[col]))\n",
    "w_test = np.ones_like(test[col])/float(len(test[col]))\n",
    "\n",
    "plt.hist([train[col], dev[col], test[col]], \n",
    "         bins, density=False, alpha=.9, stacked=False, \n",
    "         weights=[w_train, w_dev, w_test], #rwidth=2.,\n",
    "         label=['train', 'dev', 'test'], align='mid')\n",
    "plt.legend(loc='upper right')\n",
    "plt.xticks(range(1, 20))\n",
    "plt.xlabel('Number of elementary discourse units')\n",
    "plt.gca().set_yticklabels(['{:.1f}'.format(x*100) for x in plt.gca().get_yticks()]) \n",
    "plt.ylabel('Percentage of subset, %')\n",
    "\n",
    "f.savefig(\"length distribution.pdf\", bbox_inches='tight')"
   ]
  },
  {
   "cell_type": "code",
   "execution_count": 71,
   "metadata": {
    "pycharm": {
     "name": "#%%\n"
    }
   },
   "outputs": [],
   "source": [
    "train = train[train[col] < 10]\n",
    "\n",
    "train_for = train[(train.masks_stance == 2) | (train.vaccines_stance == 2) | (train.quarantine_stance == 2)]\n",
    "train_against = train[(train.masks_stance == 0) | (train.vaccines_stance == 0) | (train.quarantine_stance == 0)]\n",
    "train_other = train[(train.masks_stance == 1) | (train.vaccines_stance == 1) | (train.quarantine_stance == 1)]"
   ]
  },
  {
   "cell_type": "code",
   "execution_count": 72,
   "metadata": {
    "pycharm": {
     "name": "#%%\n"
    }
   },
   "outputs": [
    {
     "name": "stderr",
     "output_type": "stream",
     "text": [
      "/opt/.pyenv/versions/3.7.4/lib/python3.7/site-packages/numpy/core/fromnumeric.py:3208: VisibleDeprecationWarning: Creating an ndarray from ragged nested sequences (which is a list-or-tuple of lists-or-tuples-or ndarrays with different lengths or shapes) is deprecated. If you meant to do this, you must specify 'dtype=object' when creating the ndarray.\n",
      "  return asarray(a).size\n",
      "/opt/.pyenv/versions/3.7.4/lib/python3.7/site-packages/matplotlib/cbook/__init__.py:1426: VisibleDeprecationWarning: Creating an ndarray from ragged nested sequences (which is a list-or-tuple of lists-or-tuples-or ndarrays with different lengths or shapes) is deprecated. If you meant to do this, you must specify 'dtype=object' when creating the ndarray.\n",
      "  X = np.atleast_1d(X.T if isinstance(X, np.ndarray) else np.asarray(X))\n"
     ]
    },
    {
     "data": {
      "image/png": "[encoded data removed]",
      "text/plain": [
       "<Figure size 360x144 with 1 Axes>"
      ]
     },
     "metadata": {
      "needs_background": "light"
     },
     "output_type": "display_data"
    }
   ],
   "source": [
    "import matplotlib.pyplot as plt\n",
    "\n",
    "plt.style.use('seaborn-deep')\n",
    "f = plt.figure(figsize=(5,2))\n",
    "\n",
    "col = 'length_edu'\n",
    "bins = np.linspace(1, 10, 20)\n",
    "\n",
    "w_train_for = np.ones_like(train_for[col])/float(len(train_for[col]))\n",
    "w_train_against = np.ones_like(train_against[col])/float(len(train_against[col]))\n",
    "w_train_other = np.ones_like(train_other[col])/float(len(train_other[col]))\n",
    "\n",
    "plt.hist([train_for[col], train_other[col], train_against[col]], \n",
    "         bins, density=False, alpha=.9, stacked=False, \n",
    "         weights=[w_train_for, w_train_other, w_train_against],\n",
    "         label=['stance=for', 'stance=other', 'stance=against'], align='mid', color=['green', 'darkgrey', 'red'])\n",
    "plt.legend(loc='upper right')\n",
    "plt.xticks(range(1, 10))\n",
    "plt.xlabel('Number of elementary discourse units')\n",
    "plt.gca().set_yticklabels(['{:.1f}'.format(x*100) for x in plt.gca().get_yticks()]) \n",
    "plt.ylabel('Percentage of subset, %')\n",
    "\n",
    "f.savefig(\"length distribution by stance.pdf\", bbox_inches='tight')"
   ]
  },
  {
   "cell_type": "code",
   "execution_count": 73,
   "metadata": {
    "pycharm": {
     "name": "#%%\n"
    }
   },
   "outputs": [],
   "source": [
    "train_for = train[(train.masks_argument == 2) | (train.vaccines_argument == 2) | (train.quarantine_argument == 2)]\n",
    "train_against = train[(train.masks_argument == 0) | (train.vaccines_argument == 0) | (train.quarantine_argument == 0)]\n",
    "train_other = train[(train.masks_argument == 1) | (train.vaccines_argument == 1) | (train.quarantine_argument == 1)]"
   ]
  },
  {
   "cell_type": "code",
   "execution_count": 75,
   "metadata": {
    "pycharm": {
     "name": "#%%\n"
    }
   },
   "outputs": [
    {
     "name": "stderr",
     "output_type": "stream",
     "text": [
      "/opt/.pyenv/versions/3.7.4/lib/python3.7/site-packages/numpy/core/fromnumeric.py:3208: VisibleDeprecationWarning: Creating an ndarray from ragged nested sequences (which is a list-or-tuple of lists-or-tuples-or ndarrays with different lengths or shapes) is deprecated. If you meant to do this, you must specify 'dtype=object' when creating the ndarray.\n",
      "  return asarray(a).size\n",
      "/opt/.pyenv/versions/3.7.4/lib/python3.7/site-packages/matplotlib/cbook/__init__.py:1426: VisibleDeprecationWarning: Creating an ndarray from ragged nested sequences (which is a list-or-tuple of lists-or-tuples-or ndarrays with different lengths or shapes) is deprecated. If you meant to do this, you must specify 'dtype=object' when creating the ndarray.\n",
      "  X = np.atleast_1d(X.T if isinstance(X, np.ndarray) else np.asarray(X))\n"
     ]
    },
    {
     "data": {
      "image/png": "[encoded data removed]",
      "text/plain": [
       "<Figure size 360x144 with 1 Axes>"
      ]
     },
     "metadata": {
      "needs_background": "light"
     },
     "output_type": "display_data"
    }
   ],
   "source": [
    "import matplotlib.pyplot as plt\n",
    "\n",
    "plt.style.use('seaborn-deep')\n",
    "f = plt.figure(figsize=(5,2))\n",
    "\n",
    "col = 'length_edu'\n",
    "bins = np.linspace(1, 10, 20)\n",
    "\n",
    "w_train_for = np.ones_like(train_for[col])/float(len(train_for[col]))\n",
    "w_train_against = np.ones_like(train_against[col])/float(len(train_against[col]))\n",
    "w_train_other = np.ones_like(train_other[col])/float(len(train_other[col]))\n",
    "\n",
    "plt.hist([train_for[col], train_other[col], train_against[col]], \n",
    "         bins, density=False, alpha=.9, stacked=False, \n",
    "         weights=[w_train_for, w_train_other, w_train_against],\n",
    "         label=['premise=for', 'premise=other', 'premise=against'], align='mid', color=['green', 'darkgrey', 'red'])\n",
    "plt.legend(loc='upper right')\n",
    "plt.xticks(range(1, 10))\n",
    "plt.xlabel('Number of elementary discourse units')\n",
    "plt.gca().set_yticklabels(['{:.1f}'.format(x*100) for x in plt.gca().get_yticks()]) \n",
    "plt.ylabel('Percentage of subset, %')\n",
    "\n",
    "f.savefig(\"length distribution by argument.pdf\", bbox_inches='tight')"
   ]
  },
  {
   "cell_type": "code",
   "execution_count": 25,
   "metadata": {
    "pycharm": {
     "name": "#%%\n"
    }
   },
   "outputs": [],
   "source": [
    "labels = ['attribution_NS', 'attribution_SN', 'background_NS',\n",
    "          'cause-effect_NS', 'cause-effect_SN',\n",
    "          'comparison_NN', 'concession_NS', 'condition_NS', 'condition_SN',\n",
    "          'contrast_NN', 'elaboration_NS', 'evidence_NS',\n",
    "          'interpretation-evaluation_NS', 'interpretation-evaluation_SN',\n",
    "          'joint_NN', 'preparation_SN', 'purpose_NS', 'purpose_SN',\n",
    "          'restatement_NN', 'same-unit_NN', 'sequence_NN', 'solutionhood_SN']\n",
    "\n",
    "\n",
    "def extract_pairs(tree):\n",
    "    result = []\n",
    "    if tree.relation != 'elementary':\n",
    "        result = [[tree.left.text, tree.right.text, tree.relation, tree.nuclearity]]\n",
    "        result += extract_pairs(tree.left)\n",
    "        result += extract_pairs(tree.right)\n",
    "    return result\n",
    "\n",
    "def discourse_relations(tree):\n",
    "    pairs = extract_pairs(tree)\n",
    "    result = dict()\n",
    "    if pairs:\n",
    "        for label in labels:\n",
    "            relation = label.split('_')[0]\n",
    "            if not relation + '_N' in result:\n",
    "                for pair in pairs:\n",
    "                    if pair[2] == relation:\n",
    "                        if pair[3] == 'SN':\n",
    "                            result[relation + '_S'] = pair[0]\n",
    "                            result[relation + '_N'] = pair[1]\n",
    "                        elif pair[3] == 'NS':\n",
    "                            result[relation + '_S'] = pair[1]\n",
    "                            result[relation + '_N'] = pair[0]\n",
    "                        else:\n",
    "                            result[relation + '_N'] = pair[0] + ' ' + pair[1]\n",
    "    else:\n",
    "        result['EDU'] = tree.text \n",
    "                    \n",
    "    return result"
   ]
  },
  {
   "cell_type": "code",
   "execution_count": 141,
   "metadata": {
    "pycharm": {
     "name": "#%%\n"
    }
   },
   "outputs": [
    {
     "name": "stderr",
     "output_type": "stream",
     "text": [
      "100%|██████████| 6717/6717 [00:00<00:00, 82738.80it/s]\n"
     ]
    }
   ],
   "source": [
    "train['rst_relations'] = train.annot.progress_map(lambda row: discourse_relations(row['rst'][0]))"
   ]
  },
  {
   "cell_type": "code",
   "execution_count": 26,
   "metadata": {
    "pycharm": {
     "name": "#%%\n"
    }
   },
   "outputs": [
    {
     "name": "stderr",
     "output_type": "stream",
     "text": [
      "100%|██████████| 9550/9550 [00:00<00:00, 87121.15it/s]\n"
     ]
    }
   ],
   "source": [
    "_all['rst_relations'] = _all.annot.progress_map(lambda row: discourse_relations(row['rst'][0]))"
   ]
  },
  {
   "cell_type": "code",
   "execution_count": 142,
   "metadata": {
    "pycharm": {
     "name": "#%%\n"
    }
   },
   "outputs": [
    {
     "name": "stdout",
     "output_type": "stream",
     "text": [
      "[USER], надеемся, что в других регионах не придется вводить настолько жесткие меры по карантину\n"
     ]
    },
    {
     "data": {
      "text/plain": [
       "{'EDU': 'надеемся , что в других регионах не придется вводить настолько жесткие меры по карантину'}"
      ]
     },
     "execution_count": 142,
     "metadata": {},
     "output_type": "execute_result"
    }
   ],
   "source": [
    "n = 7\n",
    "print(train.iloc[n]['text'])\n",
    "train.iloc[n]['rst_relations']"
   ]
  },
  {
   "cell_type": "code",
   "execution_count": null,
   "metadata": {
    "pycharm": {
     "name": "#%%\n"
    }
   },
   "outputs": [],
   "source": [
    "from isanlp.annotation_rst import ForestExporter\n",
    "\n",
    "rs3exp = ForestExporter('utf8')\n",
    "rs3exp(train.iloc[n]['annot']['rst'], 'вот_и_выходит.rs3')"
   ]
  },
  {
   "cell_type": "code",
   "execution_count": 144,
   "metadata": {
    "pycharm": {
     "name": "#%%\n"
    }
   },
   "outputs": [
    {
     "name": "stderr",
     "output_type": "stream",
     "text": [
      "100%|██████████| 6717/6717 [00:00<00:00, 209376.99it/s]\n"
     ]
    }
   ],
   "source": [
    "def extract_pairs_forest(trees):\n",
    "    result = []\n",
    "    for tree in trees:\n",
    "        result += extract_pairs(tree)\n",
    "    return result\n",
    "\n",
    "train['all_pairs'] = train.annot.progress_map(lambda row: extract_pairs_forest(row['rst']))"
   ]
  },
  {
   "cell_type": "code",
   "execution_count": null,
   "metadata": {
    "pycharm": {
     "name": "#%%\n"
    }
   },
   "outputs": [],
   "source": [
    "ar = [value for row in train['all_pairs'] for value in row]\n",
    "all_relations = sorted(list(set([row[2] for row in ar])))"
   ]
  },
  {
   "cell_type": "code",
   "execution_count": 147,
   "metadata": {
    "pycharm": {
     "name": "#%%\n"
    }
   },
   "outputs": [],
   "source": [
    "relations = train[train.masks_stance == 0].all_pairs.map(lambda row: [value[2] for value in row])"
   ]
  },
  {
   "cell_type": "code",
   "execution_count": 150,
   "metadata": {
    "pycharm": {
     "name": "#%%\n"
    }
   },
   "outputs": [
    {
     "data": {
      "image/png": "[encoded data removed]",
      "text/plain": [
       "<Figure size 640x320 with 1 Axes>"
      ]
     },
     "metadata": {
      "needs_background": "light"
     },
     "output_type": "display_data"
    }
   ],
   "source": [
    "import numpy as np\n",
    "import matplotlib.pyplot as plt\n",
    "from collections import Counter\n",
    "from matplotlib.pyplot import figure\n",
    "\n",
    "\n",
    "f = figure(figsize=(8, 4), dpi=80)\n",
    "\n",
    "relations = train[train.masks_stance == 0].all_pairs.map(\n",
    "    lambda row: [value[2] for value in row])\n",
    "masks_stance_0 = [value for row in relations.values for value in row]\n",
    "cntr = Counter(masks_stance_0)\n",
    "values = [cntr.get(rel, 0) for rel in all_relations]\n",
    "y_0 = [value / len(masks_stance_0) for value in values]\n",
    "\n",
    "relations = train[train.masks_stance == 1].all_pairs.map(\n",
    "    lambda row: [value[2] for value in row])\n",
    "masks_stance_1 = [value for row in relations.values for value in row]\n",
    "cntr = Counter(masks_stance_1)\n",
    "values = [cntr.get(rel, 0) for rel in all_relations]\n",
    "y_1 = [value / len(masks_stance_1) for value in values]\n",
    "\n",
    "relations = train[train.masks_stance == 2].all_pairs.map(\n",
    "    lambda row: [value[2] for value in row])\n",
    "masks_stance_2 = [value for row in relations.values for value in row]\n",
    "cntr = Counter(masks_stance_2)\n",
    "values = [cntr.get(rel, 0) for rel in all_relations]\n",
    "y_2 = [value / len(masks_stance_2) for value in values]\n",
    "\n",
    "ax = plt.subplot(111)\n",
    "indexes = np.arange(len(all_relations))\n",
    "b0 = ax.bar(indexes-0.2, y_0, width=0.2, color='tab:red', align='center')\n",
    "b1 = ax.bar(indexes, y_1, width=0.2, color='silver', align='center')\n",
    "b2 = ax.bar(indexes+0.2, y_2, width=0.2, color='green', align='center')\n",
    "\n",
    "ax.legend((b0, b1, b2), ('mask:stance=against', 'mask:stance=other', 'mask:stance=for'))\n",
    "plt.xticks(indexes, all_relations, rotation=90)\n",
    "plt.show()\n",
    "f.savefig(\"disgraph_mask_stance.pdf\", bbox_inches='tight')"
   ]
  },
  {
   "cell_type": "code",
   "execution_count": 151,
   "metadata": {
    "pycharm": {
     "name": "#%%\n"
    }
   },
   "outputs": [
    {
     "data": {
      "image/png": "[encoded data removed]",
      "text/plain": [
       "<Figure size 640x320 with 1 Axes>"
      ]
     },
     "metadata": {
      "needs_background": "light"
     },
     "output_type": "display_data"
    }
   ],
   "source": [
    "import numpy as np\n",
    "import matplotlib.pyplot as plt\n",
    "from collections import Counter\n",
    "from matplotlib.pyplot import figure\n",
    "\n",
    "\n",
    "f = figure(figsize=(8, 4), dpi=80)\n",
    "\n",
    "relations = train[train.masks_argument == 0].all_pairs.map(\n",
    "    lambda row: [value[2] for value in row])\n",
    "masks_stance_0 = [value for row in relations.values for value in row]\n",
    "cntr = Counter(masks_stance_0)\n",
    "values = [cntr.get(rel, 0) for rel in all_relations]\n",
    "y_0 = [value / len(masks_stance_0) for value in values]\n",
    "\n",
    "relations = train[train.masks_argument == 1].all_pairs.map(\n",
    "    lambda row: [value[2] for value in row])\n",
    "masks_stance_1 = [value for row in relations.values for value in row]\n",
    "cntr = Counter(masks_stance_1)\n",
    "values = [cntr.get(rel, 0) for rel in all_relations]\n",
    "y_1 = [value / len(masks_stance_1) for value in values]\n",
    "\n",
    "relations = train[train.masks_argument == 2].all_pairs.map(\n",
    "    lambda row: [value[2] for value in row])\n",
    "masks_stance_2 = [value for row in relations.values for value in row]\n",
    "cntr = Counter(masks_stance_2)\n",
    "values = [cntr.get(rel, 0) for rel in all_relations]\n",
    "y_2 = [value / len(masks_stance_2) for value in values]\n",
    "\n",
    "ax = plt.subplot(111)\n",
    "indexes = np.arange(len(all_relations))\n",
    "b0 = ax.bar(indexes-0.2, y_0, width=0.2, color='tab:red', align='center')\n",
    "b1 = ax.bar(indexes, y_1, width=0.2, color='silver', align='center')\n",
    "b2 = ax.bar(indexes+0.2, y_2, width=0.2, color='green', align='center')\n",
    "\n",
    "ax.legend((b0, b1, b2), ('mask:argument=against', 'mask:argument=other', 'mask:argument=for'))\n",
    "plt.xticks(indexes, all_relations, rotation=90)\n",
    "plt.show()\n",
    "f.savefig(\"disgraph_mask_argument.pdf\", bbox_inches='tight')"
   ]
  },
  {
   "cell_type": "code",
   "execution_count": 152,
   "metadata": {
    "pycharm": {
     "name": "#%%\n"
    }
   },
   "outputs": [
    {
     "data": {
      "image/png": "[encoded data removed]",
      "text/plain": [
       "<Figure size 640x320 with 1 Axes>"
      ]
     },
     "metadata": {
      "needs_background": "light"
     },
     "output_type": "display_data"
    }
   ],
   "source": [
    "import numpy as np\n",
    "import matplotlib.pyplot as plt\n",
    "from collections import Counter\n",
    "from matplotlib.pyplot import figure\n",
    "\n",
    "\n",
    "f = figure(figsize=(8, 4), dpi=80)\n",
    "\n",
    "relations = train[train.quarantine_stance == 0].all_pairs.map(\n",
    "    lambda row: [value[2] for value in row])\n",
    "masks_stance_0 = [value for row in relations.values for value in row]\n",
    "cntr = Counter(masks_stance_0)\n",
    "values = [cntr.get(rel, 0) for rel in all_relations]\n",
    "y_0 = [value / len(masks_stance_0) for value in values]\n",
    "\n",
    "relations = train[train.quarantine_stance == 1].all_pairs.map(\n",
    "    lambda row: [value[2] for value in row])\n",
    "masks_stance_1 = [value for row in relations.values for value in row]\n",
    "cntr = Counter(masks_stance_1)\n",
    "values = [cntr.get(rel, 0) for rel in all_relations]\n",
    "y_1 = [value / len(masks_stance_1) for value in values]\n",
    "\n",
    "relations = train[train.quarantine_stance == 2].all_pairs.map(\n",
    "    lambda row: [value[2] for value in row])\n",
    "masks_stance_2 = [value for row in relations.values for value in row]\n",
    "cntr = Counter(masks_stance_2)\n",
    "values = [cntr.get(rel, 0) for rel in all_relations]\n",
    "y_2 = [value / len(masks_stance_2) for value in values]\n",
    "\n",
    "ax = plt.subplot(111)\n",
    "indexes = np.arange(len(all_relations))\n",
    "b0 = ax.bar(indexes-0.2, y_0, width=0.2, color='tab:red', align='center')\n",
    "b1 = ax.bar(indexes, y_1, width=0.2, color='silver', align='center')\n",
    "b2 = ax.bar(indexes+0.2, y_2, width=0.2, color='green', align='center')\n",
    "\n",
    "ax.legend((b0, b1, b2), ('quarantine:stance=against', 'quarantine:stance=other', 'quarantine:stance=for'))\n",
    "plt.xticks(indexes, all_relations, rotation=90)\n",
    "plt.show()\n",
    "f.savefig(\"disgraph_quarantine_stance.pdf\", bbox_inches='tight')"
   ]
  },
  {
   "cell_type": "code",
   "execution_count": 153,
   "metadata": {
    "pycharm": {
     "name": "#%%\n"
    }
   },
   "outputs": [
    {
     "data": {
      "image/png": "[encoded data removed]",
      "text/plain": [
       "<Figure size 640x320 with 1 Axes>"
      ]
     },
     "metadata": {
      "needs_background": "light"
     },
     "output_type": "display_data"
    }
   ],
   "source": [
    "import numpy as np\n",
    "import matplotlib.pyplot as plt\n",
    "from collections import Counter\n",
    "from matplotlib.pyplot import figure\n",
    "\n",
    "\n",
    "f = figure(figsize=(8, 4), dpi=80)\n",
    "\n",
    "relations = train[train.quarantine_argument == 0].all_pairs.map(\n",
    "    lambda row: [value[2] for value in row])\n",
    "masks_stance_0 = [value for row in relations.values for value in row]\n",
    "cntr = Counter(masks_stance_0)\n",
    "values = [cntr.get(rel, 0) for rel in all_relations]\n",
    "y_0 = [value / len(masks_stance_0) for value in values]\n",
    "\n",
    "relations = train[train.quarantine_argument == 1].all_pairs.map(\n",
    "    lambda row: [value[2] for value in row])\n",
    "masks_stance_1 = [value for row in relations.values for value in row]\n",
    "cntr = Counter(masks_stance_1)\n",
    "values = [cntr.get(rel, 0) for rel in all_relations]\n",
    "y_1 = [value / len(masks_stance_1) for value in values]\n",
    "\n",
    "relations = train[train.quarantine_argument == 2].all_pairs.map(\n",
    "    lambda row: [value[2] for value in row])\n",
    "masks_stance_2 = [value for row in relations.values for value in row]\n",
    "cntr = Counter(masks_stance_2)\n",
    "values = [cntr.get(rel, 0) for rel in all_relations]\n",
    "y_2 = [value / len(masks_stance_2) for value in values]\n",
    "\n",
    "ax = plt.subplot(111)\n",
    "indexes = np.arange(len(all_relations))\n",
    "b0 = ax.bar(indexes-0.2, y_0, width=0.2, color='tab:red', align='center')\n",
    "b1 = ax.bar(indexes, y_1, width=0.2, color='silver', align='center')\n",
    "b2 = ax.bar(indexes+0.2, y_2, width=0.2, color='green', align='center')\n",
    "\n",
    "ax.legend((b0, b1, b2), ('quarantine:argument=against', 'quarantine:argument=other', 'quarantine:argument=for'))\n",
    "plt.xticks(indexes, all_relations, rotation=90)\n",
    "plt.show()\n",
    "f.savefig(\"disgraph_quarantine_argument.pdf\", bbox_inches='tight')"
   ]
  },
  {
   "cell_type": "code",
   "execution_count": 154,
   "metadata": {
    "pycharm": {
     "name": "#%%\n"
    }
   },
   "outputs": [
    {
     "data": {
      "image/png": "[encoded data removed]",
      "text/plain": [
       "<Figure size 640x320 with 1 Axes>"
      ]
     },
     "metadata": {
      "needs_background": "light"
     },
     "output_type": "display_data"
    }
   ],
   "source": [
    "import numpy as np\n",
    "import matplotlib.pyplot as plt\n",
    "from collections import Counter\n",
    "from matplotlib.pyplot import figure\n",
    "\n",
    "\n",
    "f = figure(figsize=(8, 4), dpi=80)\n",
    "\n",
    "relations = train[train.vaccines_stance == 0].all_pairs.map(\n",
    "    lambda row: [value[2] for value in row])\n",
    "masks_stance_0 = [value for row in relations.values for value in row]\n",
    "cntr = Counter(masks_stance_0)\n",
    "values = [cntr.get(rel, 0) for rel in all_relations]\n",
    "y_0 = [value / len(masks_stance_0) for value in values]\n",
    "\n",
    "relations = train[train.vaccines_stance == 1].all_pairs.map(\n",
    "    lambda row: [value[2] for value in row])\n",
    "masks_stance_1 = [value for row in relations.values for value in row]\n",
    "cntr = Counter(masks_stance_1)\n",
    "values = [cntr.get(rel, 0) for rel in all_relations]\n",
    "y_1 = [value / len(masks_stance_1) for value in values]\n",
    "\n",
    "relations = train[train.vaccines_stance == 2].all_pairs.map(\n",
    "    lambda row: [value[2] for value in row])\n",
    "masks_stance_2 = [value for row in relations.values for value in row]\n",
    "cntr = Counter(masks_stance_2)\n",
    "values = [cntr.get(rel, 0) for rel in all_relations]\n",
    "y_2 = [value / len(masks_stance_2) for value in values]\n",
    "\n",
    "ax = plt.subplot(111)\n",
    "indexes = np.arange(len(all_relations))\n",
    "b0 = ax.bar(indexes-0.2, y_0, width=0.2, color='tab:red', align='center')\n",
    "b1 = ax.bar(indexes, y_1, width=0.2, color='silver', align='center')\n",
    "b2 = ax.bar(indexes+0.2, y_2, width=0.2, color='green', align='center')\n",
    "\n",
    "ax.legend((b0, b1, b2), ('vaccines:stance=against', 'vaccines:stance=other', 'vaccines:stance=for'))\n",
    "plt.xticks(indexes, all_relations, rotation=90)\n",
    "plt.show()\n",
    "f.savefig(\"disgraph_vaccines_stance.pdf\", bbox_inches='tight')"
   ]
  },
  {
   "cell_type": "code",
   "execution_count": 155,
   "metadata": {
    "pycharm": {
     "name": "#%%\n"
    }
   },
   "outputs": [
    {
     "data": {
      "image/png": "[encoded data removed]",
      "text/plain": [
       "<Figure size 640x320 with 1 Axes>"
      ]
     },
     "metadata": {
      "needs_background": "light"
     },
     "output_type": "display_data"
    }
   ],
   "source": [
    "import numpy as np\n",
    "import matplotlib.pyplot as plt\n",
    "from collections import Counter\n",
    "from matplotlib.pyplot import figure\n",
    "\n",
    "\n",
    "f = figure(figsize=(8, 4), dpi=80)\n",
    "\n",
    "relations = train[train.vaccines_argument == 0].all_pairs.map(\n",
    "    lambda row: [value[2] for value in row])\n",
    "masks_stance_0 = [value for row in relations.values for value in row]\n",
    "cntr = Counter(masks_stance_0)\n",
    "values = [cntr.get(rel, 0) for rel in all_relations]\n",
    "y_0 = [value / len(masks_stance_0) for value in values]\n",
    "\n",
    "relations = train[train.vaccines_argument == 1].all_pairs.map(\n",
    "    lambda row: [value[2] for value in row])\n",
    "masks_stance_1 = [value for row in relations.values for value in row]\n",
    "cntr = Counter(masks_stance_1)\n",
    "values = [cntr.get(rel, 0) for rel in all_relations]\n",
    "y_1 = [value / len(masks_stance_1) for value in values]\n",
    "\n",
    "relations = train[train.vaccines_argument == 2].all_pairs.map(\n",
    "    lambda row: [value[2] for value in row])\n",
    "masks_stance_2 = [value for row in relations.values for value in row]\n",
    "cntr = Counter(masks_stance_2)\n",
    "values = [cntr.get(rel, 0) for rel in all_relations]\n",
    "y_2 = [value / len(masks_stance_2) for value in values]\n",
    "\n",
    "ax = plt.subplot(111)\n",
    "indexes = np.arange(len(all_relations))\n",
    "b0 = ax.bar(indexes-0.2, y_0, width=0.2, color='tab:red', align='center')\n",
    "b1 = ax.bar(indexes, y_1, width=0.2, color='silver', align='center')\n",
    "b2 = ax.bar(indexes+0.2, y_2, width=0.2, color='green', align='center')\n",
    "\n",
    "ax.legend((b0, b1, b2), ('vaccines:argument=against', 'vaccines:argument=other', 'vaccines:argument=for'))\n",
    "plt.xticks(indexes, all_relations, rotation=90)\n",
    "plt.show()\n",
    "f.savefig(\"disgraph_vaccines_argument.pdf\", bbox_inches='tight')"
   ]
  },
  {
   "cell_type": "markdown",
   "metadata": {
    "pycharm": {
     "name": "#%% md\n"
    }
   },
   "source": [
    "### Actual statistics"
   ]
  },
  {
   "cell_type": "code",
   "execution_count": 156,
   "metadata": {
    "pycharm": {
     "name": "#%%\n"
    }
   },
   "outputs": [],
   "source": [
    "train['rst_relations'] = train.all_pairs.map(lambda row: ' '.join([val[2] for val in row]))"
   ]
  },
  {
   "cell_type": "code",
   "execution_count": 173,
   "metadata": {
    "pycharm": {
     "name": "#%%\n"
    }
   },
   "outputs": [],
   "source": [
    "from sklearn.feature_extraction.text import CountVectorizer\n",
    "import numpy as np\n",
    "\n",
    "relations_bow = CountVectorizer(tokenizer=lambda row: row.split(), ngram_range=(1,1))\n",
    "\n",
    "relations_freq = relations_bow.fit_transform(train['rst_relations']).toarray()\n",
    "X = pd.DataFrame(data=relations_freq, columns=relations_bow.get_feature_names())"
   ]
  },
  {
   "cell_type": "code",
   "execution_count": 175,
   "metadata": {
    "pycharm": {
     "name": "#%%\n"
    }
   },
   "outputs": [
    {
     "name": "stderr",
     "output_type": "stream",
     "text": [
      "/opt/.pyenv/versions/3.7.4/lib/python3.7/site-packages/ipykernel_launcher.py:1: FutureWarning: Support for multi-dimensional indexing (e.g. `obj[:, None]`) is deprecated and will be removed in a future version.  Convert to a numpy array before indexing instead.\n",
      "  \"\"\"Entry point for launching an IPython kernel.\n"
     ]
    }
   ],
   "source": [
    "X = X / X.sum(axis=1)[:,None]"
   ]
  },
  {
   "cell_type": "code",
   "execution_count": 177,
   "metadata": {
    "scrolled": true,
    "pycharm": {
     "name": "#%%\n"
    }
   },
   "outputs": [
    {
     "name": "stdout",
     "output_type": "stream",
     "text": [
      "5.290067e-01\n",
      "4.496092e-01\n",
      "9.282537e-04\n",
      "9.239274e-01\n",
      "9.046907e-01\n",
      "4.757876e-08\n",
      "5.689361e-01\n",
      "5.864945e-01\n",
      "6.273123e-01\n",
      "7.972416e-01\n",
      "4.584164e-01\n",
      "4.833212e-01\n",
      "4.026860e-05\n",
      "4.536836e-01\n",
      "7.857519e-01\n",
      "5.111001e-01\n",
      "8.532170e-01\n"
     ]
    },
    {
     "data": {
      "text/plain": [
       "{'condition': 4.7578757563551366e-08,\n",
       " 'purpose': 4.026859939730019e-05,\n",
       " 'cause-effect': 0.0009282536991755733,\n",
       " 'background': 0.44960921614962,\n",
       " 'restatement': 0.45368361971757387,\n",
       " 'joint': 0.4584163766191064,\n",
       " 'preparation': 0.48332123304764096,\n",
       " 'sequence': 0.5111000947577249,\n",
       " 'attribution': 0.5290067061812824,\n",
       " 'contrast': 0.5689361000103201,\n",
       " 'elaboration': 0.5864945085285749,\n",
       " 'evidence': 0.6273122788679732,\n",
       " 'same-unit': 0.7857519249266336,\n",
       " 'interpretation-evaluation': 0.7972415553041148,\n",
       " 'solutionhood': 0.8532169597419509,\n",
       " 'concession': 0.9046907240119558,\n",
       " 'comparison': 0.9239273692595534}"
      ]
     },
     "execution_count": 177,
     "metadata": {},
     "output_type": "execute_result"
    }
   ],
   "source": [
    "from sklearn.feature_selection import chi2\n",
    "\n",
    "X = X.fillna(0).astype('float64')\n",
    "scores, pvalues = chi2(X, train.masks_argument.values)\n",
    "p_values = dict(zip(X.keys(), pvalues))\n",
    "p_values = {k: v for k, v in sorted(p_values.items(), key=lambda item: item[0])}\n",
    "print('\\n'.join(map(lambda x: '{:e}'.format(x), p_values.values())))\n",
    "{k: v for k, v in sorted(p_values.items(), key=lambda item: item[1])}"
   ]
  },
  {
   "cell_type": "code",
   "execution_count": 182,
   "metadata": {
    "pycharm": {
     "name": "#%%\n"
    }
   },
   "outputs": [
    {
     "name": "stdout",
     "output_type": "stream",
     "text": [
      "5.482537e-01\n",
      "4.058508e-01\n",
      "1.998747e-04\n",
      "9.418320e-01\n",
      "8.554066e-01\n",
      "1.921699e-03\n",
      "8.014754e-01\n",
      "8.017153e-01\n",
      "7.206419e-01\n",
      "9.199794e-01\n",
      "9.737347e-02\n",
      "5.240888e-01\n",
      "3.180201e-01\n",
      "4.824476e-01\n",
      "9.414478e-01\n",
      "4.601998e-01\n",
      "5.857219e-01\n"
     ]
    },
    {
     "data": {
      "text/plain": [
       "{'cause-effect': 0.00019987467749799244,\n",
       " 'condition': 0.0019216987935382146,\n",
       " 'joint': 0.09737347177770427,\n",
       " 'purpose': 0.3180201357934089,\n",
       " 'background': 0.40585080132488105,\n",
       " 'sequence': 0.4601997588528599,\n",
       " 'restatement': 0.4824476342211288,\n",
       " 'preparation': 0.524088785609476,\n",
       " 'attribution': 0.548253674888763,\n",
       " 'solutionhood': 0.5857219193813552,\n",
       " 'evidence': 0.7206419091655306,\n",
       " 'contrast': 0.8014754247520969,\n",
       " 'elaboration': 0.8017153136696208,\n",
       " 'concession': 0.8554066175990572,\n",
       " 'interpretation-evaluation': 0.919979352998915,\n",
       " 'same-unit': 0.9414478407829785,\n",
       " 'comparison': 0.9418320156495421}"
      ]
     },
     "execution_count": 182,
     "metadata": {},
     "output_type": "execute_result"
    }
   ],
   "source": [
    "scores, pvalues = chi2(X, train.masks_stance.values)\n",
    "p_values = dict(zip(X.keys(), pvalues))\n",
    "p_values = {k: v for k, v in sorted(p_values.items(), key=lambda item: item[0])}\n",
    "print('\\n'.join(map(lambda x: '{:e}'.format(x), p_values.values())))\n",
    "{k: v for k, v in sorted(p_values.items(), key=lambda item: item[1])}"
   ]
  },
  {
   "cell_type": "code",
   "execution_count": 184,
   "metadata": {
    "scrolled": true,
    "pycharm": {
     "name": "#%%\n"
    }
   },
   "outputs": [
    {
     "name": "stdout",
     "output_type": "stream",
     "text": [
      "2.459632e-02\n",
      "8.604987e-01\n",
      "3.554938e-01\n",
      "9.086999e-01\n",
      "5.331101e-01\n",
      "8.945119e-01\n",
      "3.101080e-01\n",
      "8.503746e-01\n",
      "6.681316e-01\n",
      "9.376474e-01\n",
      "2.385963e-02\n",
      "9.215031e-01\n",
      "5.674246e-02\n",
      "3.096501e-02\n",
      "7.759935e-01\n",
      "6.840089e-01\n",
      "9.325653e-01\n"
     ]
    },
    {
     "data": {
      "text/plain": [
       "{'joint': 0.023859626129013402,\n",
       " 'attribution': 0.024596320843970104,\n",
       " 'restatement': 0.03096501098325558,\n",
       " 'purpose': 0.05674246395485286,\n",
       " 'contrast': 0.3101079622978623,\n",
       " 'cause-effect': 0.35549378255813124,\n",
       " 'concession': 0.5331101362269999,\n",
       " 'evidence': 0.6681316386898062,\n",
       " 'sequence': 0.6840088841537251,\n",
       " 'same-unit': 0.7759934734790395,\n",
       " 'elaboration': 0.8503746159017148,\n",
       " 'background': 0.8604987169591678,\n",
       " 'condition': 0.8945118657743383,\n",
       " 'comparison': 0.9086998958111526,\n",
       " 'preparation': 0.9215030615739671,\n",
       " 'solutionhood': 0.932565296457302,\n",
       " 'interpretation-evaluation': 0.9376473921912701}"
      ]
     },
     "execution_count": 184,
     "metadata": {},
     "output_type": "execute_result"
    }
   ],
   "source": [
    "scores, pvalues = chi2(X, train.vaccines_argument.values)\n",
    "p_values = dict(zip(X.keys(), pvalues))\n",
    "print('\\n'.join(map(lambda x: '{:e}'.format(x), p_values.values())))\n",
    "{k: v for k, v in sorted(p_values.items(), key=lambda item: item[1])}"
   ]
  },
  {
   "cell_type": "code",
   "execution_count": 78,
   "metadata": {
    "pycharm": {
     "name": "#%%\n"
    }
   },
   "outputs": [],
   "source": [
    "train.to_pickle('data/train_all_about_rst.pkl')"
   ]
  },
  {
   "cell_type": "markdown",
   "metadata": {
    "pycharm": {
     "name": "#%% md\n"
    }
   },
   "source": [
    "### Export discourse trees examples"
   ]
  },
  {
   "cell_type": "code",
   "execution_count": 22,
   "metadata": {
    "pycharm": {
     "name": "#%%\n"
    }
   },
   "outputs": [],
   "source": [
    "from isanlp.annotation_rst import ForestExporter\n",
    "import os\n",
    "\n",
    "rs3exp = ForestExporter(encoding='utf8')"
   ]
  },
  {
   "cell_type": "code",
   "execution_count": null,
   "metadata": {
    "pycharm": {
     "name": "#%%\n"
    }
   },
   "outputs": [],
   "source": [
    "! rm -r rst_result"
   ]
  },
  {
   "cell_type": "code",
   "execution_count": null,
   "metadata": {
    "pycharm": {
     "name": "#%%\n"
    }
   },
   "outputs": [],
   "source": [
    "! mkdir rst_result"
   ]
  },
  {
   "cell_type": "code",
   "execution_count": 27,
   "metadata": {
    "pycharm": {
     "name": "#%%\n"
    }
   },
   "outputs": [
    {
     "data": {
      "text/plain": [
       "Index(['text_id', 'text', 'masks_stance', 'masks_argument',\n",
       "       'quarantine_stance', 'quarantine_argument', 'vaccines_stance',\n",
       "       'vaccines_argument', 'annot', 'tokens', 'rst_relations', 'all_pairs'],\n",
       "      dtype='object')"
      ]
     },
     "execution_count": 27,
     "metadata": {},
     "output_type": "execute_result"
    }
   ],
   "source": [
    "data.keys()"
   ]
  },
  {
   "cell_type": "code",
   "execution_count": 101,
   "metadata": {
    "pycharm": {
     "name": "#%%\n"
    }
   },
   "outputs": [],
   "source": [
    "! rm -r  rst_result/vaccines_stance"
   ]
  },
  {
   "cell_type": "code",
   "execution_count": 123,
   "metadata": {
    "pycharm": {
     "name": "#%%\n"
    }
   },
   "outputs": [
    {
     "name": "stdout",
     "output_type": "stream",
     "text": [
      "0  1  -1  2\n"
     ]
    }
   ],
   "source": [
    "! ls rst_result/vaccines_argument"
   ]
  },
  {
   "cell_type": "code",
   "execution_count": 121,
   "metadata": {
    "pycharm": {
     "name": "#%%\n"
    }
   },
   "outputs": [
    {
     "data": {
      "text/plain": [
       "(5059, 12)"
      ]
     },
     "execution_count": 121,
     "metadata": {},
     "output_type": "execute_result"
    }
   ],
   "source": [
    "data = pd.read_pickle('data/train_all_about_rst.pkl')\n",
    "data = data[data.vaccines_argument == -1]\n",
    "data.shape"
   ]
  },
  {
   "cell_type": "code",
   "execution_count": 114,
   "metadata": {
    "pycharm": {
     "name": "#%%\n"
    }
   },
   "outputs": [
    {
     "name": "stdout",
     "output_type": "stream",
     "text": [
      "mkdir: cannot create directory ‘rst_result/vaccines_argument’: File exists\n"
     ]
    }
   ],
   "source": [
    "! mkdir rst_result/vaccines_argument"
   ]
  },
  {
   "cell_type": "code",
   "execution_count": 122,
   "metadata": {
    "pycharm": {
     "name": "#%%\n"
    }
   },
   "outputs": [],
   "source": [
    "pathname = 'rst_result/vaccines_argument/-1'\n",
    "if not os.path.isdir(pathname):\n",
    "    os.mkdir(pathname)\n",
    "    \n",
    "for idx, annot in data.annot.iteritems():\n",
    "    rs3exp(annot['rst'], os.path.join(pathname, f'{idx}.rs3'))"
   ]
  },
  {
   "cell_type": "code",
   "execution_count": 126,
   "metadata": {
    "pycharm": {
     "name": "#%%\n"
    }
   },
   "outputs": [
    {
     "name": "stdout",
     "output_type": "stream",
     "text": [
      "0  1  -1  2\n"
     ]
    }
   ],
   "source": [
    "! ls rst_result/quarantine_argument"
   ]
  },
  {
   "cell_type": "code",
   "execution_count": 1,
   "metadata": {
    "pycharm": {
     "name": "#%%\n"
    }
   },
   "outputs": [],
   "source": [
    "# ! zip -r rst_result.zip rst_result"
   ]
  },
  {
   "cell_type": "code",
   "execution_count": 140,
   "metadata": {
    "pycharm": {
     "name": "#%%\n"
    }
   },
   "outputs": [],
   "source": [
    "lengths = data.annot.map(lambda row: len(row['rst']))"
   ]
  },
  {
   "cell_type": "code",
   "execution_count": 141,
   "metadata": {
    "pycharm": {
     "name": "#%%\n"
    }
   },
   "outputs": [
    {
     "data": {
      "text/plain": [
       "count    6717.0\n",
       "mean        1.0\n",
       "std         0.0\n",
       "min         1.0\n",
       "25%         1.0\n",
       "50%         1.0\n",
       "75%         1.0\n",
       "max         1.0\n",
       "Name: annot, dtype: float64"
      ]
     },
     "execution_count": 141,
     "metadata": {},
     "output_type": "execute_result"
    }
   ],
   "source": [
    "lengths.describe()"
   ]
  },
  {
   "cell_type": "code",
   "execution_count": 18,
   "metadata": {
    "scrolled": true,
    "pycharm": {
     "name": "#%%\n"
    }
   },
   "outputs": [
    {
     "name": "stdout",
     "output_type": "stream",
     "text": [
      "id: 4\n",
      "text: согласно предписаниям Роспотребнадзора , все транзитные пассажиры , следующие через Москву , должны пройти 14-дневный карантин у себя по месту жительства .\n",
      "proba: 1.0\n",
      "relation: attribution\n",
      "nuclearity: SN\n",
      "left: согласно предписаниям Роспотребнадзора ,\n",
      "right: все транзитные пассажиры , следующие через Москву , должны пройти 14-дневный карантин у себя по месту жительства .\n",
      "start: 0\n",
      "end: 155\n"
     ]
    }
   ],
   "source": [
    "print(data.annot.iloc[0]['rst'][0])"
   ]
  },
  {
   "cell_type": "code",
   "execution_count": 19,
   "metadata": {
    "pycharm": {
     "name": "#%%\n"
    }
   },
   "outputs": [
    {
     "data": {
      "text/plain": [
       "155"
      ]
     },
     "execution_count": 19,
     "metadata": {},
     "output_type": "execute_result"
    }
   ],
   "source": [
    "len(data.annot.iloc[0]['rst'][0].text)"
   ]
  }
 ],
 "metadata": {
  "kernelspec": {
   "display_name": "Python 3",
   "language": "python",
   "name": "python3"
  },
  "language_info": {
   "codemirror_mode": {
    "name": "ipython",
    "version": 3
   },
   "file_extension": ".py",
   "mimetype": "text/x-python",
   "name": "python",
   "nbconvert_exporter": "python",
   "pygments_lexer": "ipython3",
   "version": "3.7.4"
  }
 },
 "nbformat": 4,
 "nbformat_minor": 4
}